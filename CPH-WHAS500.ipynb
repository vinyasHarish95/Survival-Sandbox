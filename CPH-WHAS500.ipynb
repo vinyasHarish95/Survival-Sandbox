{
 "cells": [
  {
   "attachments": {},
   "cell_type": "markdown",
   "metadata": {},
   "source": [
    "# Cox-Prop Hazards Analysis using scikit-survival - WHAS500"
   ]
  },
  {
   "cell_type": "code",
   "execution_count": 1,
   "metadata": {},
   "outputs": [],
   "source": [
    "# Core libraries\n",
    "import pandas as pd \n",
    "import numpy as np \n",
    "import seaborn as sb \n",
    "import matplotlib.pyplot as plt\n",
    "\n",
    "# Survival analysis and datasets \n",
    "from sklearn import set_config\n",
    "from sksurv.datasets import load_whas500\n",
    "from sksurv.linear_model import CoxPHSurvivalAnalysis\n",
    "from sklearn.model_selection import train_test_split\n",
    "from sksurv.metrics import concordance_index_censored\n",
    "\n",
    "# Other analysis\n",
    "from tableone import TableOne\n",
    "\n",
    "SEED = 20221228"
   ]
  },
  {
   "attachments": {},
   "cell_type": "markdown",
   "metadata": {},
   "source": [
    "### Load in dataset "
   ]
  },
  {
   "cell_type": "code",
   "execution_count": 41,
   "metadata": {},
   "outputs": [
    {
     "name": "stdout",
     "output_type": "stream",
     "text": [
      "afb       category\n",
      "age        float64\n",
      "av3       category\n",
      "bmi        float64\n",
      "chf       category\n",
      "cvd       category\n",
      "diasbp     float64\n",
      "gender    category\n",
      "hr         float64\n",
      "los        float64\n",
      "miord     category\n",
      "mitype    category\n",
      "sho       category\n",
      "sysbp      float64\n",
      "dtype: object\n",
      "[('fstat', '?'), ('lenfol', '<f8')]\n"
     ]
    }
   ],
   "source": [
    "# scikit-survival y has two fields (outcome and follow-up time)\n",
    "    ##  If survival was True, then the column denoting the event indicator will be boolean and survival times will be float\n",
    "    ##  If attr_labels contains None, y is set to None.\n",
    "whas500_X, whas500_y = load_whas500()\n",
    "print(whas500_X.dtypes)\n",
    "print(whas500_y.dtype)\n",
    "\n",
    "X_train, X_test, y_train, y_test = train_test_split(whas500_X, whas500_y, test_size=0.25, stratify=whas500_y[\"fstat\"], random_state=SEED)"
   ]
  },
  {
   "attachments": {},
   "cell_type": "markdown",
   "metadata": {},
   "source": [
    "### Train model "
   ]
  },
  {
   "cell_type": "code",
   "execution_count": null,
   "metadata": {},
   "outputs": [],
   "source": [
    "# Note that the categorical features need to be encoded else errors get thrown when trying to predict (model still fits for some reason)\n",
    "coxPH = make_pipeline(OneHotEncoder(), CoxPHSurvivalAnalysis())\n",
    "coxPH.fit(X_train, y_train)\n",
    "\n",
    "#Generate predictions \n",
    "predictions = coxPH.predict(X_test)"
   ]
  },
  {
   "attachments": {},
   "cell_type": "markdown",
   "metadata": {},
   "source": [
    "### Evaluate model"
   ]
  },
  {
   "attachments": {},
   "cell_type": "markdown",
   "metadata": {},
   "source": [
    "#### Discrimination "
   ]
  },
  {
   "cell_type": "code",
   "execution_count": null,
   "metadata": {},
   "outputs": [],
   "source": [
    "# Basic C-index \n",
    "C_Index = concordance_index_censored(y_test['fstat'], y_test['lenfol'], predictions)[0]\n",
    "C_Index"
   ]
  },
  {
   "attachments": {},
   "cell_type": "markdown",
   "metadata": {},
   "source": [
    "#### Calibration"
   ]
  },
  {
   "cell_type": "code",
   "execution_count": null,
   "metadata": {},
   "outputs": [],
   "source": []
  }
 ],
 "metadata": {
  "kernelspec": {
   "display_name": "Python 3",
   "language": "python",
   "name": "python3"
  },
  "language_info": {
   "codemirror_mode": {
    "name": "ipython",
    "version": 3
   },
   "file_extension": ".py",
   "mimetype": "text/x-python",
   "name": "python",
   "nbconvert_exporter": "python",
   "pygments_lexer": "ipython3",
   "version": "3.9.2"
  },
  "orig_nbformat": 4,
  "vscode": {
   "interpreter": {
    "hash": "aee8b7b246df8f9039afb4144a1f6fd8d2ca17a180786b69acc140d282b71a49"
   }
  }
 },
 "nbformat": 4,
 "nbformat_minor": 2
}
