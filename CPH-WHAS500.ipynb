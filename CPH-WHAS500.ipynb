{
 "cells": [
  {
   "attachments": {},
   "cell_type": "markdown",
   "metadata": {},
   "source": [
    "# Cox-Prop Hazards Analysis using scikit-survival - WHAS500"
   ]
  },
  {
   "cell_type": "code",
   "execution_count": 24,
   "metadata": {},
   "outputs": [],
   "source": [
    "# Core libraries\n",
    "import pandas as pd \n",
    "import numpy as np \n",
    "import seaborn as sb \n",
    "import matplotlib.pyplot as plt\n",
    "\n",
    "# Survival analysis and datasets \n",
    "from sklearn import set_config\n",
    "from sklearn.pipeline import make_pipeline \n",
    "from sksurv.datasets import load_whas500\n",
    "from sksurv.linear_model import CoxPHSurvivalAnalysis\n",
    "from sklearn.model_selection import train_test_split\n",
    "from sksurv.metrics import (concordance_index_censored, cumulative_dynamic_auc, integrated_brier_score)\n",
    "from sksurv.preprocessing import OneHotEncoder #Needs to be from the scikit-surv package\n",
    "from sksurv.column import standardize #Note this is a method not a class\n",
    "from sksurv.nonparametric import kaplan_meier_estimator\n",
    "from sksurv.functions import StepFunction\n",
    "\n",
    "SEED = 20221228"
   ]
  },
  {
   "attachments": {},
   "cell_type": "markdown",
   "metadata": {},
   "source": [
    "### Load in dataset "
   ]
  },
  {
   "cell_type": "code",
   "execution_count": 30,
   "metadata": {},
   "outputs": [],
   "source": [
    "# scikit-survival y has two fields (outcome and follow-up time)\n",
    "    ## Note: If survival was True, then the column denoting the event indicator will be boolean and survival times will be float\n",
    "    ##       If attr_labels contains None, y is set to None.\n",
    "whas500_X, whas500_y = load_whas500()\n",
    "types_whas500X = whas500_X.dtypes\n",
    "types_whas500Y = whas500_y.dtype\n",
    "\n",
    "# Center and scale all numeric columns\n",
    "whas500_X = standardize(whas500_X) \n",
    "\n",
    "X_train, X_test, y_train, y_test = train_test_split(whas500_X, whas500_y, test_size=0.25, stratify=whas500_y[\"fstat\"], random_state=SEED)"
   ]
  },
  {
   "attachments": {},
   "cell_type": "markdown",
   "metadata": {},
   "source": [
    "### Train model "
   ]
  },
  {
   "cell_type": "code",
   "execution_count": 31,
   "metadata": {},
   "outputs": [
    {
     "name": "stderr",
     "output_type": "stream",
     "text": [
      "/usr/local/lib/python3.9/site-packages/sksurv/column.py:142: FutureWarning: iteritems is deprecated and will be removed in a future version. Use .items instead.\n",
      "  for name, series in table.iteritems():\n",
      "/usr/local/lib/python3.9/site-packages/sksurv/column.py:142: FutureWarning: iteritems is deprecated and will be removed in a future version. Use .items instead.\n",
      "  for name, series in table.iteritems():\n"
     ]
    }
   ],
   "source": [
    "# Note that the categorical features need to be encoded else errors get thrown when trying to predict (model still fits for some reason)\n",
    "    ## Standardization isn't a class compatible with pipelines\n",
    "coxPH = make_pipeline(OneHotEncoder(), CoxPHSurvivalAnalysis())\n",
    "coxPH.fit(X_train, y_train)\n",
    "\n",
    "#Generate predictions \n",
    "coxPH_risks = coxPH.predict(X_test)"
   ]
  },
  {
   "attachments": {},
   "cell_type": "markdown",
   "metadata": {},
   "source": [
    "### Evaluate model"
   ]
  },
  {
   "attachments": {},
   "cell_type": "markdown",
   "metadata": {},
   "source": [
    "#### Discrimination "
   ]
  },
  {
   "cell_type": "code",
   "execution_count": 34,
   "metadata": {},
   "outputs": [
    {
     "data": {
      "text/plain": [
       "0.759"
      ]
     },
     "execution_count": 34,
     "metadata": {},
     "output_type": "execute_result"
    }
   ],
   "source": [
    "# Overall C-index \n",
    " ## Note: Harrell’s concordance index is known to be biased upwards if the amount of censoring in the test data is high.\n",
    " ##       Uno et al proposed an alternative estimator of the concordance index that behaves better in such situations (inverse prob of censor weights)\n",
    " ##       Implemented as concordance_index_ipcw\n",
    "\n",
    "C_Index = concordance_index_censored(y_test['fstat'], y_test['lenfol'], coxPH_risks)[0]\n",
    "C_Index.round(3)"
   ]
  },
  {
   "cell_type": "code",
   "execution_count": 35,
   "metadata": {},
   "outputs": [
    {
     "data": {
      "image/png": "[encoded data removed]",
      "text/plain": [
       "<Figure size 640x480 with 1 Axes>"
      ]
     },
     "metadata": {},
     "output_type": "display_data"
    }
   ],
   "source": [
    "# Time dependent C-index\n",
    "times = np.arange(1, 2350, 30) # The follow up times in the test set are between 1 and 2350 days \n",
    "coxPH_auc, coxPH_mean_auc = cumulative_dynamic_auc(y_train, y_test, coxPH_risks, times)\n",
    "\n",
    "plt.plot(times, coxPH_auc, marker=\"o\")\n",
    "plt.axhline(coxPH_mean_auc, linestyle=\"--\")\n",
    "plt.xlabel(\"days from enrollment\")\n",
    "plt.ylabel(\"time-dependent AUC\")\n",
    "plt.grid(True)"
   ]
  },
  {
   "attachments": {},
   "cell_type": "markdown",
   "metadata": {},
   "source": [
    "#### Calibration"
   ]
  },
  {
   "cell_type": "code",
   "execution_count": 36,
   "metadata": {},
   "outputs": [
    {
     "name": "stderr",
     "output_type": "stream",
     "text": [
      "/usr/local/lib/python3.9/site-packages/sksurv/column.py:142: FutureWarning: iteritems is deprecated and will be removed in a future version. Use .items instead.\n",
      "  for name, series in table.iteritems():\n"
     ]
    },
    {
     "data": {
      "text/plain": [
       "CPH             0.177\n",
       "Random          0.249\n",
       "Kaplan-Meier    0.220\n",
       "Name: IBS, dtype: float64"
      ]
     },
     "execution_count": 36,
     "metadata": {},
     "output_type": "execute_result"
    }
   ],
   "source": [
    "# Compute integrated Brier scores between the 10th and 90th percentile of observed datapoints in the test set\n",
    "lower, upper = np.percentile(y_test[\"lenfol\"], [10, 90])\n",
    "times_bounded = np.arange(lower, upper + 1)\n",
    "\n",
    "cph_surv_prob = np.row_stack([fn(times_bounded) for fn in coxPH.predict_survival_function(X_test)])\n",
    "\n",
    "# Compare against a random model and the base Kaplan-Meier function which doesn't use any predictors \n",
    "random_surv_prob = 0.5 * np.ones((y_test.shape[0], times_bounded.shape[0]))\n",
    "\n",
    "km_func = StepFunction(*kaplan_meier_estimator(y_test[\"fstat\"], y_test[\"lenfol\"]))\n",
    "km_surv_prob = np.tile(km_func(times_bounded), (y_test.shape[0], 1))\n",
    "\n",
    "# The Brier score calculator needs survival times for training data to estimate the censoring distribution\n",
    "score_brier = pd.Series([integrated_brier_score(y_train, y_test, prob, times_bounded)\n",
    "                        for prob in (cph_surv_prob, random_surv_prob, km_surv_prob)],\n",
    "                        index=[\"CPH\", \"Random\", \"Kaplan-Meier\"],name=\"IBS\")\n",
    "\n",
    "score_brier.round(3)"
   ]
  }
 ],
 "metadata": {
  "kernelspec": {
   "display_name": "Python 3",
   "language": "python",
   "name": "python3"
  },
  "language_info": {
   "codemirror_mode": {
    "name": "ipython",
    "version": 3
   },
   "file_extension": ".py",
   "mimetype": "text/x-python",
   "name": "python",
   "nbconvert_exporter": "python",
   "pygments_lexer": "ipython3",
   "version": "3.9.2"
  },
  "orig_nbformat": 4,
  "vscode": {
   "interpreter": {
    "hash": "aee8b7b246df8f9039afb4144a1f6fd8d2ca17a180786b69acc140d282b71a49"
   }
  }
 },
 "nbformat": 4,
 "nbformat_minor": 2
}
